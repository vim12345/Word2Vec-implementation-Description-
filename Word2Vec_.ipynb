{
  "nbformat": 4,
  "nbformat_minor": 0,
  "metadata": {
    "colab": {
      "provenance": []
    },
    "kernelspec": {
      "name": "python3",
      "display_name": "Python 3"
    },
    "language_info": {
      "name": "python"
    }
  },
  "cells": [
    {
      "cell_type": "code",
      "execution_count": null,
      "metadata": {
        "id": "UvkVsoU_hkaY"
      },
      "outputs": [],
      "source": [
        "# Install if not already: pip install gensim nltk\n",
        "!pip install gensim nltk\n",
        "import nltk\n",
        "from gensim.models import Word2Vec\n",
        "from nltk.tokenize import word_tokenize\n",
        "from nltk.corpus import brown\n",
        "import matplotlib.pyplot as plt\n",
        "from sklearn.decomposition import PCA"
      ]
    },
    {
      "cell_type": "code",
      "source": [
        "\n",
        "nltk.download('punkt')\n",
        "nltk.download('brown')"
      ],
      "metadata": {
        "id": "UpK_l8itiPMW"
      },
      "execution_count": null,
      "outputs": []
    },
    {
      "cell_type": "code",
      "source": [
        "# Load a sample text corpus\n",
        "sentences = brown.sents()  # Pre-tokenized corpus from NLTK\n",
        ""
      ],
      "metadata": {
        "id": "HRwvAgpmiRSu"
      },
      "execution_count": null,
      "outputs": []
    },
    {
      "cell_type": "code",
      "source": [
        "# Train Word2Vec model\n",
        "model = Word2Vec(sentences=sentences, vector_size=100, window=5, min_count=5, sg=1, workers=4)\n",
        ""
      ],
      "metadata": {
        "id": "5lMO0kDaiTMW"
      },
      "execution_count": null,
      "outputs": []
    },
    {
      "cell_type": "code",
      "source": [
        "\n",
        "# Save and load model (optional)\n",
        "# model.save(\"word2vec_brown.model\")\n",
        "# model = Word2Vec.load(\"word2vec_brown.model\")\n",
        "\n",
        "# Explore word vectors\n",
        "print(\"\\nMost similar words to 'money':\")\n",
        "print(model.wv.most_similar('money'))\n",
        ""
      ],
      "metadata": {
        "id": "dUC37FJBiVOg"
      },
      "execution_count": null,
      "outputs": []
    },
    {
      "cell_type": "code",
      "source": [
        "# Visualize a few words in 2D using PCA\n",
        "words = ['king', 'queen', 'man', 'woman', 'money', 'bank', 'school', 'teacher', 'student', 'war']\n",
        "word_vecs = [model.wv[word] for word in words]\n",
        "\n",
        "pca = PCA(n_components=2)\n",
        "result = pca.fit_transform(word_vecs)\n",
        "\n",
        "plt.figure(figsize=(8, 6))\n",
        "for i, word in enumerate(words):\n",
        "    plt.scatter(result[i, 0], result[i, 1])\n",
        "    plt.text(result[i, 0] + 0.01, result[i, 1] + 0.01, word)\n",
        "plt.title(\"Word2Vec Word Embeddings (PCA Projection)\")\n",
        "plt.grid(True)\n",
        "plt.tight_layout()\n",
        "plt.show()"
      ],
      "metadata": {
        "id": "RerMXf53iZBC"
      },
      "execution_count": null,
      "outputs": []
    }
  ]
}